{
 "cells": [
  {
   "cell_type": "markdown",
   "metadata": {},
   "source": [
    "# neuralthreads\n",
    "[medium](https://neuralthreads.medium.com/i-was-not-satisfied-by-any-deep-learning-tutorials-online-37c5e9f4bea1)\n",
    "\n",
    "## Chapter 1 — Tensors\n",
    "\n",
    "### 1.2 What is Tensor reshaping?\n",
    "\n",
    "> Note — It is recommended that you have a look at the previous post (own_tutorial_1.ipynb)."
   ]
  },
  {
   "cell_type": "markdown",
   "metadata": {},
   "source": [
    "Tensor reshaping is simply changing the shape of the Tensor or doing partition of tensor in various ways.\n",
    "\n",
    "Let us start with creating a 2-D Tensor of shape (6, 4). For the sake of clarity, the elements are 1 to 24 in ascending order. Believe me, this order will play a significant role in understanding Tensor reshaping.\n",
    "\n",
    "*Creating a 2-D tensor*"
   ]
  },
  {
   "cell_type": "code",
   "execution_count": 2,
   "metadata": {},
   "outputs": [
    {
     "name": "stdout",
     "output_type": "stream",
     "text": [
      "[[ 1  2  3  4]\n",
      " [ 5  6  7  8]\n",
      " [ 9 10 11 12]\n",
      " [13 14 15 16]\n",
      " [17 18 19 20]\n",
      " [21 22 23 24]]\n"
     ]
    }
   ],
   "source": [
    "import numpy as np\n",
    "np.random.seed(42)\n",
    "x = np.array([[1, 2, 3, 4], [5, 6, 7, 8], [9, 10, 11, 12], [13, 14, 15, 16], [17, 18, 19, 20], [21, 22, 23, 24]])\n",
    "print(x)"
   ]
  },
  {
   "cell_type": "code",
   "execution_count": 3,
   "metadata": {},
   "outputs": [
    {
     "name": "stdout",
     "output_type": "stream",
     "text": [
      "2\n",
      "(6, 4)\n",
      "24\n"
     ]
    }
   ],
   "source": [
    "print(len(x.shape))\n",
    "print(x.shape)\n",
    "print(x.size)\n"
   ]
  },
  {
   "cell_type": "markdown",
   "metadata": {},
   "source": [
    "The total number of scalar elements in the Tensor is always equal to the product of numbers in the shape tuple. Here, it is 6 * 4 = 24\n",
    "\n",
    "*x.size* also gives the total number of scalar elements\n",
    "\n",
    "You must have noticed that while creating this 2-D Tensor, I wrote all the scalars and square brackets in one single line.\n",
    "\n",
    "> ====>>> [[1, 2, 3, 4], [5, 6, 7, 8], [9, 10, 11, 12], [13, 14, 15, 16], [17, 18, 19, 20], [21, 22, 23, 24]] <<<====\n",
    "\n",
    "Let us say at the beginning we have a vector containing scalar elements from 1 to 24 in ascending order.\n",
    "\n",
    "> [1, 2, 3, 4, 5, 6, 7, 8, 9, 10, 11, 12, 13, 14, 15, 16, 17, 18, 19, 20, 21, 22, 23, 24]\n",
    "\n",
    "Then we break it into 6 groups and apparently each group formed will have 4 scalars in it.\n",
    "\n",
    "> [[1, 2, 3, 4], [5, 6, 7, 8], [9, 10, 11, 12], [13, 14, 15, 16], [17, 18, 19, 20], [21, 22, 23, 24]]\n",
    "\n",
    "This is how this *2-D Tensor* was created. We broke 24 into 6 and 4.\n",
    "\n",
    "Can we break it into 4 and 6, or 8 and 3, or 3 and 8?\n",
    "\n",
    "We can change the shape of the tensor to (8, 3) using this line of code."
   ]
  },
  {
   "cell_type": "code",
   "execution_count": 4,
   "metadata": {},
   "outputs": [
    {
     "name": "stdout",
     "output_type": "stream",
     "text": [
      "[[ 1  2  3]\n",
      " [ 4  5  6]\n",
      " [ 7  8  9]\n",
      " [10 11 12]\n",
      " [13 14 15]\n",
      " [16 17 18]\n",
      " [19 20 21]\n",
      " [22 23 24]]\n"
     ]
    }
   ],
   "source": [
    "print(x.reshape((8, 3)))"
   ]
  },
  {
   "cell_type": "code",
   "execution_count": 5,
   "metadata": {},
   "outputs": [
    {
     "name": "stdout",
     "output_type": "stream",
     "text": [
      "[[ 1  2  3  4  5  6  7  8]\n",
      " [ 9 10 11 12 13 14 15 16]\n",
      " [17 18 19 20 21 22 23 24]]\n"
     ]
    }
   ],
   "source": [
    "print(x.reshape((3, 8)))"
   ]
  },
  {
   "cell_type": "markdown",
   "metadata": {},
   "source": [
    "You can notice that the ascending order is still the same.\n",
    "\n",
    "> Note — The shape of the array is still (6, 4) because we haven’t assigned reshaped tensor to a variable.\n",
    "\n",
    "Similarly like this,"
   ]
  },
  {
   "cell_type": "code",
   "execution_count": 12,
   "metadata": {},
   "outputs": [
    {
     "name": "stdout",
     "output_type": "stream",
     "text": [
      "------------((12, 2)))--------------\n",
      "[[ 1  2]\n",
      " [ 3  4]\n",
      " [ 5  6]\n",
      " [ 7  8]\n",
      " [ 9 10]\n",
      " [11 12]\n",
      " [13 14]\n",
      " [15 16]\n",
      " [17 18]\n",
      " [19 20]\n",
      " [21 22]\n",
      " [23 24]]\n",
      "-------------((2, 12)))---------------\n",
      "[[ 1  2  3  4  5  6  7  8  9 10 11 12]\n",
      " [13 14 15 16 17 18 19 20 21 22 23 24]]\n"
     ]
    }
   ],
   "source": [
    "print('------------((12, 2)))--------------')\n",
    "print(x.reshape((12, 2)))\n",
    "print('-------------((2, 12)))---------------')\n",
    "print(x.reshape((2, 12)))"
   ]
  },
  {
   "cell_type": "code",
   "execution_count": 14,
   "metadata": {},
   "outputs": [
    {
     "name": "stdout",
     "output_type": "stream",
     "text": [
      "----------((2, 3, 4)))-------------\n",
      "[[[ 1  2  3  4]\n",
      "  [ 5  6  7  8]\n",
      "  [ 9 10 11 12]]\n",
      "\n",
      " [[13 14 15 16]\n",
      "  [17 18 19 20]\n",
      "  [21 22 23 24]]]\n",
      "-----------((3, 4, 2)))-------------\n",
      "[[[ 1  2]\n",
      "  [ 3  4]\n",
      "  [ 5  6]\n",
      "  [ 7  8]]\n",
      "\n",
      " [[ 9 10]\n",
      "  [11 12]\n",
      "  [13 14]\n",
      "  [15 16]]\n",
      "\n",
      " [[17 18]\n",
      "  [19 20]\n",
      "  [21 22]\n",
      "  [23 24]]]\n"
     ]
    }
   ],
   "source": [
    "print('----------((2, 3, 4)))-------------')\n",
    "print(x.reshape((2, 3, 4)))\n",
    "print('-----------((3, 4, 2)))-------------')\n",
    "print(x.reshape((3, 4, 2)))"
   ]
  },
  {
   "cell_type": "code",
   "execution_count": 16,
   "metadata": {},
   "outputs": [
    {
     "name": "stdout",
     "output_type": "stream",
     "text": [
      "-----------((4, 3, 2)))-------------\n",
      "[[[ 1  2]\n",
      "  [ 3  4]\n",
      "  [ 5  6]]\n",
      "\n",
      " [[ 7  8]\n",
      "  [ 9 10]\n",
      "  [11 12]]\n",
      "\n",
      " [[13 14]\n",
      "  [15 16]\n",
      "  [17 18]]\n",
      "\n",
      " [[19 20]\n",
      "  [21 22]\n",
      "  [23 24]]]\n"
     ]
    }
   ],
   "source": [
    "print('-----------((4, 3, 2)))-------------')\n",
    "print(x.reshape((4, 3, 2)))"
   ]
  },
  {
   "cell_type": "markdown",
   "metadata": {},
   "source": [
    "We can change the shape of the tensor as long as the product of the numbers in the final shape tuple is equal to the total number of scalar elements in the tensor or the product of numbers in the original shape tuple.\n",
    "\n",
    "> print(x.reshape((2, 13))) # 26\n",
    "> print(x.reshape((2, 11))) # 22\n",
    "\n",
    "will produce error because of\n",
    "\n",
    "> 24 != 2 * 13 = 26\n",
    "> 24 != 2*11 = 22\n",
    "\n",
    "Going forward, we can break 24 into (2, 2, 1, 1, 1, 2, 3), or (3, 4, 1, 1, 1, 1, 1, 2)"
   ]
  },
  {
   "cell_type": "code",
   "execution_count": 18,
   "metadata": {},
   "outputs": [
    {
     "name": "stdout",
     "output_type": "stream",
     "text": [
      "[[[[[[[ 1  2  3]\n",
      "      [ 4  5  6]]]]]\n",
      "\n",
      "\n",
      "\n",
      "\n",
      "  [[[[[ 7  8  9]\n",
      "      [10 11 12]]]]]]\n",
      "\n",
      "\n",
      "\n",
      "\n",
      "\n",
      " [[[[[[13 14 15]\n",
      "      [16 17 18]]]]]\n",
      "\n",
      "\n",
      "\n",
      "\n",
      "  [[[[[19 20 21]\n",
      "      [22 23 24]]]]]]]\n"
     ]
    }
   ],
   "source": [
    "print(x.reshape((2, 2, 1, 1, 1, 2, 3)))"
   ]
  },
  {
   "cell_type": "code",
   "execution_count": 19,
   "metadata": {},
   "outputs": [
    {
     "name": "stdout",
     "output_type": "stream",
     "text": [
      "[[[[[[[[ 1  2]]]]]]\n",
      "\n",
      "\n",
      "\n",
      "\n",
      "\n",
      "  [[[[[[ 3  4]]]]]]\n",
      "\n",
      "\n",
      "\n",
      "\n",
      "\n",
      "  [[[[[[ 5  6]]]]]]\n",
      "\n",
      "\n",
      "\n",
      "\n",
      "\n",
      "  [[[[[[ 7  8]]]]]]]\n",
      "\n",
      "\n",
      "\n",
      "\n",
      "\n",
      "\n",
      " [[[[[[[ 9 10]]]]]]\n",
      "\n",
      "\n",
      "\n",
      "\n",
      "\n",
      "  [[[[[[11 12]]]]]]\n",
      "\n",
      "\n",
      "\n",
      "\n",
      "\n",
      "  [[[[[[13 14]]]]]]\n",
      "\n",
      "\n",
      "\n",
      "\n",
      "\n",
      "  [[[[[[15 16]]]]]]]\n",
      "\n",
      "\n",
      "\n",
      "\n",
      "\n",
      "\n",
      " [[[[[[[17 18]]]]]]\n",
      "\n",
      "\n",
      "\n",
      "\n",
      "\n",
      "  [[[[[[19 20]]]]]]\n",
      "\n",
      "\n",
      "\n",
      "\n",
      "\n",
      "  [[[[[[21 22]]]]]]\n",
      "\n",
      "\n",
      "\n",
      "\n",
      "\n",
      "  [[[[[[23 24]]]]]]]]\n"
     ]
    }
   ],
   "source": [
    "print(x.reshape((3, 4, 1, 1, 1, 1, 1, 2)))"
   ]
  },
  {
   "cell_type": "markdown",
   "metadata": {},
   "source": [
    "The ascending order is still unchanged.\n",
    "\n",
    "During reshaping, every tensor is one single straight line in which the order of the scalar elements never changes but the position square brackets determine its shape.\n",
    "\n",
    "And the way NumPy shows us these Tensors is like this:\n",
    "\n",
    "- Scalars in a horizontal manner\n",
    "- Other higher dimension elements in a vertical manner"
   ]
  },
  {
   "cell_type": "markdown",
   "metadata": {},
   "source": [
    "the most important part of this post.\n",
    "\n",
    "**What is the meaning of reshaping a tensor into (-1, 1), or (-1,), or (1, -1)?**\n",
    "\n",
    "> (-1, 1)\n",
    "\n",
    "When we reshape a tensor into (-1, 1)\n",
    "\n",
    "-1 is equivalent to the total number of scalars divided by the positive number in the shape tuple.\n",
    "\n",
    "In this case, it is 24 because 24 / 1 = 24\n",
    "\n",
    "It is like reshaping into (24, 1)\n",
    "\n",
    "This is useful when we have to convert the tensor to a 2-D Tensor in which the 1-D Tensor should have exactly 1 scalar element or like a column vector.\n",
    "\n"
   ]
  },
  {
   "cell_type": "code",
   "execution_count": 20,
   "metadata": {},
   "outputs": [
    {
     "name": "stdout",
     "output_type": "stream",
     "text": [
      "[[ 1]\n",
      " [ 2]\n",
      " [ 3]\n",
      " [ 4]\n",
      " [ 5]\n",
      " [ 6]\n",
      " [ 7]\n",
      " [ 8]\n",
      " [ 9]\n",
      " [10]\n",
      " [11]\n",
      " [12]\n",
      " [13]\n",
      " [14]\n",
      " [15]\n",
      " [16]\n",
      " [17]\n",
      " [18]\n",
      " [19]\n",
      " [20]\n",
      " [21]\n",
      " [22]\n",
      " [23]\n",
      " [24]]\n",
      "[[ 1]\n",
      " [ 2]\n",
      " [ 3]\n",
      " [ 4]\n",
      " [ 5]\n",
      " [ 6]\n",
      " [ 7]\n",
      " [ 8]\n",
      " [ 9]\n",
      " [10]\n",
      " [11]\n",
      " [12]\n",
      " [13]\n",
      " [14]\n",
      " [15]\n",
      " [16]\n",
      " [17]\n",
      " [18]\n",
      " [19]\n",
      " [20]\n",
      " [21]\n",
      " [22]\n",
      " [23]\n",
      " [24]]\n"
     ]
    }
   ],
   "source": [
    "print(x.reshape((-1, 1)))\n",
    "print(x.reshape(24, 1))"
   ]
  },
  {
   "cell_type": "markdown",
   "metadata": {},
   "source": [
    "Reshaping to (-1, 1) is equivalent to reshaping it into (24, 1)\n",
    "\n",
    "**(-1, )**\n",
    "\n",
    "When we reshape it into (-1,) or flatten it\n",
    "\n",
    "-1 is equivalent to the total number of scalars in the tensor.\n",
    "\n",
    "Here, -1 is equivalent to 24. It is like converting the tensor to a vector."
   ]
  },
  {
   "cell_type": "code",
   "execution_count": 21,
   "metadata": {},
   "outputs": [
    {
     "name": "stdout",
     "output_type": "stream",
     "text": [
      "[ 1  2  3  4  5  6  7  8  9 10 11 12 13 14 15 16 17 18 19 20 21 22 23 24]\n",
      "[ 1  2  3  4  5  6  7  8  9 10 11 12 13 14 15 16 17 18 19 20 21 22 23 24]\n",
      "[ 1  2  3  4  5  6  7  8  9 10 11 12 13 14 15 16 17 18 19 20 21 22 23 24]\n"
     ]
    }
   ],
   "source": [
    "print(x.reshape((-1)))\n",
    "print(x.reshape((24,)))\n",
    "print(x.flatten())"
   ]
  },
  {
   "cell_type": "markdown",
   "metadata": {},
   "source": [
    "Reshaping to (-1,) is equivalent to reshaping it into (24,), or flatten it\n",
    "\n",
    "**(1, -1)**\n",
    "\n",
    "When we reshape it to (1, -1)\n",
    "\n",
    "-1 is equivalent to the total number of scalars divided by the positive number in the shape tuple.\n",
    "\n",
    "In this case, it is 24 because 24 / 1 = 24\n",
    "\n",
    "It is like reshaping into (1, 24)"
   ]
  },
  {
   "cell_type": "code",
   "execution_count": 22,
   "metadata": {},
   "outputs": [
    {
     "name": "stdout",
     "output_type": "stream",
     "text": [
      "[[ 1  2  3  4  5  6  7  8  9 10 11 12 13 14 15 16 17 18 19 20 21 22 23 24]]\n",
      "[[ 1  2  3  4  5  6  7  8  9 10 11 12 13 14 15 16 17 18 19 20 21 22 23 24]]\n"
     ]
    }
   ],
   "source": [
    "print(x.reshape((1, -1)))\n",
    "print(x.reshape(1, 24))"
   ]
  },
  {
   "cell_type": "markdown",
   "metadata": {},
   "source": [
    "Can you tell me what will happen if we reshape it to (2, -1, 3)?"
   ]
  },
  {
   "cell_type": "code",
   "execution_count": 23,
   "metadata": {},
   "outputs": [
    {
     "name": "stdout",
     "output_type": "stream",
     "text": [
      "[[[ 1  2  3]\n",
      "  [ 4  5  6]\n",
      "  [ 7  8  9]\n",
      "  [10 11 12]]\n",
      "\n",
      " [[13 14 15]\n",
      "  [16 17 18]\n",
      "  [19 20 21]\n",
      "  [22 23 24]]]\n"
     ]
    },
    {
     "data": {
      "text/plain": [
       "(2, 4, 3)"
      ]
     },
     "execution_count": 23,
     "metadata": {},
     "output_type": "execute_result"
    }
   ],
   "source": [
    "print(x.reshape((2, -1, 3)))\n",
    "x.reshape((2, -1, 3)).shape"
   ]
  },
  {
   "cell_type": "markdown",
   "metadata": {},
   "source": [
    "It is equivalent to (2, 4, 3) because 24 / (2 * 3) = 4"
   ]
  },
  {
   "cell_type": "markdown",
   "metadata": {},
   "source": [
    "I hope now you understand what is Tensor reshaping and what it means to convert it into (-1, 1), or (-1,), or (1, -1)?\n",
    "\n",
    "We will use (-1, 1) throughout the course. It is will help us to understand how we will build Neural Networks."
   ]
  }
 ],
 "metadata": {
  "kernelspec": {
   "display_name": "myenv",
   "language": "python",
   "name": "python3"
  },
  "language_info": {
   "codemirror_mode": {
    "name": "ipython",
    "version": 3
   },
   "file_extension": ".py",
   "mimetype": "text/x-python",
   "name": "python",
   "nbconvert_exporter": "python",
   "pygments_lexer": "ipython3",
   "version": "3.10.12"
  },
  "orig_nbformat": 4
 },
 "nbformat": 4,
 "nbformat_minor": 2
}
