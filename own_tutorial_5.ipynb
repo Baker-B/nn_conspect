{
 "cells": [
  {
   "cell_type": "markdown",
   "metadata": {},
   "source": [
    "# neuralthreads\n",
    "[medium](https://neuralthreads.medium.com/i-was-not-satisfied-by-any-deep-learning-tutorials-online-37c5e9f4bea1)\n",
    "\n",
    "## Chapter 2 — Optimizers\n",
    "\n",
    "### 2.2 What is SGD with Momentum?\n",
    "\n",
    "> First post (own_tutorial_1.ipynb).\n",
    "> Second post (own_tutorial_2.ipynb).\n",
    "> Third post (own_tutorial_3.ipynb)/\n",
    "> Previous post (own_tutorial_4.ipynb).\n",
    "\n",
    "\n",
    "SGD with Momentum is one of the most used optimizers in DL. Both the idea and the implementation are simple. The trick is to use a portion of the previous update and that portion is a scalar called ‘Momentum’.\n",
    "\n",
    "This post is divided into 3 sections\n",
    "\n",
    "1. SGD with Momentum in 1 variable\n",
    "2. SGD with Momentum animation for 1 variable\n",
    "3. SGD with Momentum in multi-variable function\n",
    "\n",
    "\n",
    "## SGD with Momentum in 1 variable function\n",
    "\n",
    "SGD with Momentum is a variant of SGD.\n",
    "\n",
    "In this method, we use a portion of the previous update.\n",
    "\n",
    "That portion is a **scalar** called *‘Momentum’* and the value is commonly taken as 0.9\n",
    "\n",
    "Everything is similar to what we did in SGD except here we have to first initialize update = 0 and while calculating update we add a portion of the previous update, i.e., **momentum * update**\n",
    "\n",
    "SO, ***SGD with Momentum*** algorithm in very simple language is as follows:\n",
    "\n",
    "> Step 1 - Set starting point and learning rate\n",
    "\n",
    "> Step 2 - Initialize update = 0 and momentum = 0.9\n",
    "\n",
    "> Step 3 - Initiate loop\n",
    "\n",
    ">       Step 3.1 Calculate update = -learning_rate * gradient + momentum * update\n",
    "\n",
    ">       Step 3.2 add update to point\n",
    "\n",
    "\n",
    "First, let us define the function and its derivative and we start from x = -1"
   ]
  },
  {
   "cell_type": "code",
   "execution_count": 1,
   "metadata": {},
   "outputs": [
    {
     "data": {
      "text/latex": [
       "\\begin{gather*}\n",
       "    y = f(x) = x - x^{3} \\\\\n",
       "    \\frac{dy}{dx} = f'(x) = 1 - 3x^{2} \\\\  \n",
       "\\end{gather*}\n"
      ],
      "text/plain": [
       "<IPython.core.display.Latex object>"
      ]
     },
     "metadata": {},
     "output_type": "display_data"
    }
   ],
   "source": [
    "%%latex\n",
    "\\begin{gather*}\n",
    "    y = f(x) = x - x^{3} \\\\\n",
    "    \\frac{dy}{dx} = f'(x) = 1 - 3x^{2} \\\\  \n",
    "\\end{gather*}"
   ]
  },
  {
   "cell_type": "code",
   "execution_count": 2,
   "metadata": {},
   "outputs": [],
   "source": [
    "import numpy as np\n",
    "np.random.seed(42)\n",
    "\n",
    "def f(x):                           # function definition\n",
    "    return x - x**3\n",
    "\n",
    "def fdash(x):                       # function derivative definition\n",
    "    return 1 - 3*(x**2)"
   ]
  },
  {
   "cell_type": "markdown",
   "metadata": {},
   "source": [
    "And now SGD with Momentum"
   ]
  },
  {
   "cell_type": "code",
   "execution_count": 3,
   "metadata": {},
   "outputs": [
    {
     "data": {
      "text/plain": [
       "-0.5773502691896256"
      ]
     },
     "execution_count": 3,
     "metadata": {},
     "output_type": "execute_result"
    }
   ],
   "source": [
    "point = -1                                                       # step 1\n",
    "learning_rate = 0.01\n",
    "momentum = 0.9                                                   # step 2\n",
    "update = 0\n",
    "for i in range(1000):                                            # step 3\n",
    "    update = - learning_rate * fdash(point) + momentum * update  # step 3.1\n",
    "    point += update                                              # step 3.2\n",
    "    \n",
    "point                                                            # Minima          "
   ]
  },
  {
   "cell_type": "markdown",
   "metadata": {},
   "source": [
    "### SGD with Momentum Animation for better understanding\n",
    "\n",
    "Everything thing is the same as what we did earlier for the animation of SGD. We will create a list to store starting point and updated points in it and will use the iᵗʰ index value for iᵗʰ frame of the animation."
   ]
  },
  {
   "cell_type": "code",
   "execution_count": 4,
   "metadata": {},
   "outputs": [
    {
     "data": {
      "text/plain": [
       "-0.5773502691896256"
      ]
     },
     "execution_count": 4,
     "metadata": {},
     "output_type": "execute_result"
    }
   ],
   "source": [
    "import matplotlib.pyplot as plt \n",
    "import matplotlib.animation as animation \n",
    "from matplotlib.animation import PillowWriter\n",
    "\n",
    "point_sgd_momentum = [-1]                   # initiating list with\n",
    "                                            # starting point in it\n",
    "point = -1                                  # step 1\n",
    "learning_rate = 0.01\n",
    "\n",
    "momentum = 0.9                              # step 2\n",
    "update = 0\n",
    "\n",
    "for i in range(1000):                       # step 3\n",
    "    update = momentum * update - learning_rate * fdash(point)\n",
    "                                            # step 3.1\n",
    "    point += update                         # step 3.2\n",
    "    \n",
    "    point_sgd_momentum.append(point)        # adding updated point\n",
    "                                            # to the list \n",
    "point                                       # Minima"
   ]
  },
  {
   "cell_type": "markdown",
   "metadata": {},
   "source": [
    "We will do some settings for our graph for the animation. You can change them if you want something different."
   ]
  },
  {
   "cell_type": "code",
   "execution_count": 5,
   "metadata": {},
   "outputs": [
    {
     "data": {
      "text/plain": [
       "Text(0.5, 1.0, 'SGD with Momentum, learning_rate = 0.01')"
      ]
     },
     "execution_count": 5,
     "metadata": {},
     "output_type": "execute_result"
    },
    {
     "data": {
      "image/png": "[encoded data removed]",
      "text/plain": [
       "<Figure size 960x540 with 1 Axes>"
      ]
     },
     "metadata": {},
     "output_type": "display_data"
    }
   ],
   "source": [
    "plt.rcParams.update({'font.size':22})\n",
    "\n",
    "fig = plt.figure(dpi = 50)\n",
    "\n",
    "fig.set_figheight(10.80)\n",
    "fig.set_figwidth(19.20)\n",
    "\n",
    "x_ = np.linspace(-5, 5, 10000)\n",
    "y_ = f(x_)\n",
    "\n",
    "ax = plt.axes()\n",
    "ax.plot(x_, y_)\n",
    "ax.grid(alpha = 0.5)\n",
    "ax.set_xlim(-5, 5)\n",
    "ax.set_ylim(-5, 5)\n",
    "ax.set_xlabel('x')\n",
    "ax.set_ylabel('y', rotation = 0)\n",
    "\n",
    "ax.scatter(-1, f(-1), color = 'red')\n",
    "\n",
    "ax.hlines(f(-0.5773502691896256), -5, 5, linestyles = 'dashed', alpha = 0.5)\n",
    "ax.set_title('SGD with Momentum, learning_rate = 0.01')\n",
    "\n",
    "\n"
   ]
  },
  {
   "cell_type": "markdown",
   "metadata": {},
   "source": [
    "Now we will animate the SGD with Momentum optimizer."
   ]
  },
  {
   "cell_type": "code",
   "execution_count": 8,
   "metadata": {},
   "outputs": [
    {
     "name": "stderr",
     "output_type": "stream",
     "text": [
      "MovieWriter ffmpeg unavailable; using Pillow instead.\n"
     ]
    }
   ],
   "source": [
    "def animate(i):\n",
    "    ax.clear()\n",
    "    ax.plot(x_, y_)\n",
    "    ax.grid(alpha = 0.5)\n",
    "    ax.set_xlim(-5, 5)\n",
    "    ax.set_ylim(-5, 5)\n",
    "    ax.set_xlabel('x')\n",
    "    ax.set_ylabel('y', rotation = 0)\n",
    "    ax.hlines(f(-0.5773502691896256), -5, 5, linestyles = 'dashed', alpha = 0.5)\n",
    "    ax.set_title('SGD with Momentum, learning_rate = 0.01')\n",
    "\n",
    "    ax.scatter(point_sgd_momentum[i],f(point_sgd_momentum[i]), color='red')\n",
    "\n",
    "anim = animation.FuncAnimation(fig, animate, frames = 200, interval = 20)\n",
    "anim.save('2.2.SGD_with_Momentum.gif')"
   ]
  },
  {
   "cell_type": "markdown",
   "metadata": {},
   "source": [
    "We are creating an animation that only has 200 frames and the gif is at 50 fps or frame interval is 20 ms.\n",
    "\n",
    "It is to be noted that in less than 200 iterations we have reached the minima.\n",
    "\n",
    "## SGD with Momentum in multi-variable function (2 variables right now)\n",
    "\n",
    "Everything is the same, we only have to initialize point (1, 0) and update = 0 but with shape (2, 1) and replace fdash(point) with gradient(point).\n",
    "\n",
    "But first, let us define the function, its partial derivatives and, gradient array"
   ]
  },
  {
   "cell_type": "code",
   "execution_count": 11,
   "metadata": {},
   "outputs": [
    {
     "data": {
      "text/latex": [
       "\\begin{gather*}\n",
       "    f = 2x^{2} + 2xy + 2y^{2} - 6x \\\\\n",
       "        \\text{We know that Minima for this function is at (2, -1) \\textcolor{red}{¿From where we know this?}} \\\\\n",
       "        \\text{and we will start from (1, 0)}\\\\\n",
       "        \\text{The partial derivatives are}\\\\\n",
       "        \\frac{\\partial f}{\\partial x} = 4x + 2y - 6 \\\\\n",
       "        \\frac{\\partial f}{\\partial y} = 2x + 4y \\\\\n",
       "        \\\\\n",
       "        \\textcolor{orange}{Because (\\because) \\, of } \\\\\n",
       "        ------------------ \\\\\n",
       "        \\text{Given, } u = y^{x} \\\\\n",
       "        \\text{We need to find partial derivative} \\\\\n",
       "        1. \\underline{w.r.t \\, x} \\, \\text{(with respect to ... x)} \\\\\n",
       "            \\text{In partial derivative if it`s asked to differentiate} \\\\\n",
       "            \\text{w.r.t one variable (here it is 'x') then all other} \\\\\n",
       "            \\text{variables{ will be treated as constants.}} \\\\\n",
       "            \\text{Here it is w.r.t $x$} \\, \\therefore \\, \\text{$y$ will be constant} \\\\\n",
       "            \\\\\n",
       "                \\textbf{If: } f(x) = a^{x}; \\,\\, a = const \\\\\n",
       "                \\textbf{Then: } {f}\\'(x) = a^x \\, ln \\,a \\\\\n",
       "            \\\\\n",
       "            \\text{Here } u = y^x; y = const. \\\\\n",
       "            \\therefore \\, u' = y^x \\, ln \\, y \\\\ \\text{(y is const, x is variable)}\\\\\n",
       "        \\\\\n",
       "        2. \\underline{w.r.t \\, y} \\, \\text{(with respect to ... y)} \\\\\n",
       "            \\text{Here 'x' will be treated as const}\n",
       "                \\\\\n",
       "                \\textbf{If: } f(x) = x^{a}; \\,\\, x = const \\\\\n",
       "                \\textbf{Then: } {f}\\'(x) = ax^{a-1} \\\\\n",
       "            \\\\\n",
       "            \\text{Here } u = y^x \\\\\n",
       "            \\therefore \\, u' = xy^{x-1} \\\\ \\text{(x is const, y is variable)}\\\\\n",
       "        ------------------ \\\\\n",
       "\n",
       "\n",
       "\\end{gather*}\n"
      ],
      "text/plain": [
       "<IPython.core.display.Latex object>"
      ]
     },
     "metadata": {},
     "output_type": "display_data"
    }
   ],
   "source": [
    "%%latex\n",
    "\\begin{gather*}\n",
    "    f = 2x^{2} + 2xy + 2y^{2} - 6x \\\\\n",
    "        \\text{We know that Minima for this function is at (2, -1) \\textcolor{red}{¿From where we know this?}} \\\\\n",
    "        \\text{and we will start from (1, 0)}\\\\\n",
    "        \\text{The partial derivatives are}\\\\\n",
    "        \\frac{\\partial f}{\\partial x} = 4x + 2y - 6 \\\\\n",
    "        \\frac{\\partial f}{\\partial y} = 2x + 4y \\\\\n",
    "        \\\\\n",
    "        \\textcolor{orange}{Because (\\because) \\, of } \\\\\n",
    "        ------------------ \\\\\n",
    "        \\text{Given, } u = y^{x} \\\\\n",
    "        \\text{We need to find partial derivative} \\\\\n",
    "        1. \\underline{w.r.t \\, x} \\, \\text{(with respect to ... x)} \\\\\n",
    "            \\text{In partial derivative if it`s asked to differentiate} \\\\\n",
    "            \\text{w.r.t one variable (here it is 'x') then all other} \\\\\n",
    "            \\text{variables{ will be treated as constants.}} \\\\\n",
    "            \\text{Here it is w.r.t $x$} \\, \\therefore \\, \\text{$y$ will be constant} \\\\\n",
    "            \\\\\n",
    "                \\textbf{If: } f(x) = a^{x}; \\,\\, a = const \\\\\n",
    "                \\textbf{Then: } {f}\\'(x) = a^x \\, ln \\,a \\\\\n",
    "            \\\\\n",
    "            \\text{Here } u = y^x; y = const. \\\\\n",
    "            \\therefore \\, u' = y^x \\, ln \\, y \\\\ \\text{(y is const, x is variable)}\\\\\n",
    "        \\\\\n",
    "        2. \\underline{w.r.t \\, y} \\, \\text{(with respect to ... y)} \\\\\n",
    "            \\text{Here 'x' will be treated as const}\n",
    "                \\\\\n",
    "                \\textbf{If: } f(x) = x^{a}; \\,\\, x = const \\\\\n",
    "                \\textbf{Then: } {f}\\'(x) = ax^{a-1} \\\\\n",
    "            \\\\\n",
    "            \\text{Here } u = y^x \\\\\n",
    "            \\therefore \\, u' = xy^{x-1} \\\\ \\text{(x is const, y is variable)}\\\\\n",
    "        ------------------ \\\\\n",
    "\n",
    "\n",
    "\\end{gather*}"
   ]
  },
  {
   "cell_type": "code",
   "execution_count": 12,
   "metadata": {},
   "outputs": [],
   "source": [
    "def f(x, y):                                    # function\n",
    "    return 2*(x**2) + 2*x*y + 2*(y**2) - 6*x    # definition\n",
    "\n",
    "def fdash_x(x, y):                              # partial derivative\n",
    "    return 4*x + 2*y - 6                        # w.r.t x\n",
    "\n",
    "def fdash_y(x, y):                              # partial derivative\n",
    "    return 2*x + 4*y                            # w.r.t y\n",
    "\n",
    "def gradient(point):\n",
    "    return np.array([[     fdash_x(point[0][0], point[1][0])     ],\n",
    "                     [     fdash_y(point[0][0], point[1][0])     ]], dtype = np.float64)                             # gradients"
   ]
  },
  {
   "cell_type": "markdown",
   "metadata": {},
   "source": [
    "Now the steps for SGD with Momentum in 2 variables"
   ]
  },
  {
   "cell_type": "code",
   "execution_count": 15,
   "metadata": {},
   "outputs": [
    {
     "data": {
      "text/plain": [
       "array([[ 2.],\n",
       "       [-1.]])"
      ]
     },
     "execution_count": 15,
     "metadata": {},
     "output_type": "execute_result"
    }
   ],
   "source": [
    "point = np.array([[   1   ],                       # step 1\n",
    "                  [   0   ]], dtype = np.float64)\n",
    "learning_rate = 0.01\n",
    "\n",
    "momentum = 0.9                                     # step 2\n",
    "update = np.array([[   0   ],\n",
    "                   [   0   ]], dtype = np.float64)\n",
    "\n",
    "for i in range(1000):                              # step 3\n",
    "    update = - learning_rate * gradient(point) + momentum * update\n",
    "                                                   # step 3.1\n",
    "    point += update                                # step 3.2\n",
    "    \n",
    "point                                              # Minima"
   ]
  },
  {
   "cell_type": "markdown",
   "metadata": {},
   "source": [
    "### Now as a bonus let us take a look at how SGD with Momentum is better than SGD.\n",
    "\n",
    "We have a function"
   ]
  },
  {
   "cell_type": "code",
   "execution_count": 16,
   "metadata": {},
   "outputs": [
    {
     "data": {
      "text/latex": [
       "\\begin{gather*}\n",
       "    y = f(x) = x^4 + 3x^3 + 2x^2 \\\\\n",
       "    \\frac{dy}{dx} = f'(x) = 4x^3 + 9x^2 + 4x \\\\  \n",
       "    \\\\\n",
       "    \\text{If we start from x = 0.60, then we will end at x = 0 for minima which is local}\n",
       "\\end{gather*}\n"
      ],
      "text/plain": [
       "<IPython.core.display.Latex object>"
      ]
     },
     "metadata": {},
     "output_type": "display_data"
    }
   ],
   "source": [
    "%%latex\n",
    "\\begin{gather*}\n",
    "    y = f(x) = x^4 + 3x^3 + 2x^2 \\\\\n",
    "    # \\frac{dy}{dx} = f'(x) = 4x^3 + 9x^2 + 4x \\\\  \n",
    "    # \\\\\n",
    "    \\text{and this is the graph for the function}\n",
    "\\end{gather*}"
   ]
  }
 ],
 "metadata": {
  "kernelspec": {
   "display_name": "myenv",
   "language": "python",
   "name": "python3"
  },
  "language_info": {
   "codemirror_mode": {
    "name": "ipython",
    "version": 3
   },
   "file_extension": ".py",
   "mimetype": "text/x-python",
   "name": "python",
   "nbconvert_exporter": "python",
   "pygments_lexer": "ipython3",
   "version": "3.10.12"
  },
  "orig_nbformat": 4
 },
 "nbformat": 4,
 "nbformat_minor": 2
}
