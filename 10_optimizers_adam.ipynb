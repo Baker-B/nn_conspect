{
 "cells": [
  {
   "cell_type": "markdown",
   "metadata": {},
   "source": [
    "# neuralthreads\n",
    "[medium](https://neuralthreads.medium.com/i-was-not-satisfied-by-any-deep-learning-tutorials-online-37c5e9f4bea1)\n",
    "\n",
    "## Chapter 2 — Optimizers\n",
    "\n",
    "Adam — Update to RMSprop, storing gradient and square of gradients\n",
    "\n",
    "### 2.7 How does Adam works?\n",
    "\n",
    "> First post (own_tutorial_1.ipynb).\n",
    "\n",
    "> Second post (own_tutorial_2.ipynb).\n",
    "\n",
    "> Third post (own_tutorial_3.ipynb).\n",
    "\n",
    "> Fourth post (own_tutorial_4.ipynb).\n",
    "\n",
    "> Fifth post (own_tutorial_5.ipynb).\n",
    "\n",
    "> Sixth post (own_tutorial_6.ipynb).\n",
    "\n",
    "> Seventh post (own_tutorial_7.ipynb).\n",
    "\n",
    "> Eighth post (own_tutorial_7.ipynb).\n",
    "\n",
    "> Previous post (own_tutorial_8.ipynb).\n",
    "\n",
    "Adam stands for ***Adaptive Moment Estimation***. It is an update to **RMSprop** in which we store gradients and square of gradients in a restricted manner and we call them first moment and second moment respectively.\n",
    "\n",
    "> Note — In the original paper, the bias correction is included in first and second moment but we will include it in the learning rate and we will call it ‘learning rate hat’\n",
    "\n",
    "We calculate ‘learning rate hat’ as follow:\n"
   ]
  },
  {
   "cell_type": "code",
   "execution_count": 1,
   "metadata": {},
   "outputs": [
    {
     "data": {
      "text/latex": [
       "\\begin{gather*}\n",
       "    \\widehat{learning\\_rate} = learning\\_rate * \\frac{\\sqrt{1 - \\beta_{2}^{i+1}}}{1 - \\beta_{1}^{i+1}}\\\\\n",
       "    \\\\\n",
       "    \\text{Where beta 1 and beta 2 are decay rates for the first and second moment respectively, and 'i' is the iteration loop index starting from 0.}\\\\\n",
       "    \\text{And, we calculate update as follow:}\\\\\n",
       "    \\\\\n",
       "    update = - \\widehat{learning\\_rate} * \\frac{moment1}{\\sqrt{moment2 + epsilon}}\n",
       "\n",
       "\n",
       "\\end{gather*}\n"
      ],
      "text/plain": [
       "<IPython.core.display.Latex object>"
      ]
     },
     "metadata": {},
     "output_type": "display_data"
    }
   ],
   "source": [
    "%%latex\n",
    "\\begin{gather*}\n",
    "    \\widehat{learning\\_rate} = learning\\_rate * \\frac{\\sqrt{1 - \\beta_{2}^{i+1}}}{1 - \\beta_{1}^{i+1}}\\\\\n",
    "    \\\\\n",
    "    \\text{Where beta 1 and beta 2 are decay rates for the first and second moment respectively, and 'i' is the iteration loop index starting from 0.}\\\\\n",
    "    \\text{And, we calculate update as follow:}\\\\\n",
    "    \\\\\n",
    "    update = - \\widehat{learning\\_rate} * \\frac{moment1}{\\sqrt{moment2 + epsilon}}\n",
    "\n",
    "\n",
    "\\end{gather*}"
   ]
  },
  {
   "cell_type": "markdown",
   "metadata": {},
   "source": [
    "This post is divided into 3 sections.\n",
    "\n",
    "1. Adam in 1 variable\n",
    "2. Adam animation for 1 variable\n",
    "3. Adam in multi-variable function\n",
    "\n",
    "## #1 Adam in 1 variable\n",
    "\n",
    "In this method, we store gradients and squares of gradients in a restricted manner and add a bias correction with decay rates in the learning rate calling it learning rate hat.\n",
    "\n",
    "Adam algorithm in simple language is as follows:\n",
    "\n",
    "> Step 1 - Set starting point and learning rate\n",
    "\n",
    "> Step 2 - initiate\n",
    "\n",
    ">               beta1 = 0.9\n",
    ">               beta2 = 0.999\n",
    ">               moment1 = 0\n",
    ">               moment2 = 0\n",
    ">               epsilon = 10**-8\n",
    "\n",
    "> Step 3 - Initiate loop  \n",
    "> >         Step 3.1 - calculate learning rate hat as stated above  \n",
    "> >         Step 3.2 - calculate moment1 = beta1 * moment1 + (1 - beta1) * gradient  \n",
    "> >         Step 3.3 - calculate moment2 = beta2 * moment2 + (1 - beta2) * gradient**2  \n",
    "> >         Step 3.4 - calculate update as stated above  \n",
    "> >         Step 3.5 - add update to point  \n",
    "\n",
    "First, let us define the function and its derivative and we start from x = -1"
   ]
  },
  {
   "cell_type": "code",
   "execution_count": 2,
   "metadata": {},
   "outputs": [
    {
     "data": {
      "text/latex": [
       "\\begin{gather*}\n",
       "    y = f(x) = x - x^{3} \\\\\n",
       "    \\frac{dy}{dx} = f'(x) = 1 - 3x^{2} \\\\  \n",
       "\\end{gather*}\n"
      ],
      "text/plain": [
       "<IPython.core.display.Latex object>"
      ]
     },
     "metadata": {},
     "output_type": "display_data"
    }
   ],
   "source": [
    "%%latex\n",
    "\\begin{gather*}\n",
    "    y = f(x) = x - x^{3} \\\\\n",
    "    \\frac{dy}{dx} = f'(x) = 1 - 3x^{2} \\\\  \n",
    "\\end{gather*}"
   ]
  },
  {
   "cell_type": "code",
   "execution_count": 3,
   "metadata": {},
   "outputs": [],
   "source": [
    "import numpy as np\n",
    "np.random.seed(42)\n",
    "\n",
    "def f(x):                           # function definition                        \n",
    "    return x - x**3\n",
    "\n",
    "def fdash(x):                       # function derivative definition\n",
    "    return 1 - 3*(x**2)"
   ]
  },
  {
   "cell_type": "markdown",
   "metadata": {},
   "source": [
    "And now Adam"
   ]
  },
  {
   "cell_type": "code",
   "execution_count": 4,
   "metadata": {},
   "outputs": [
    {
     "data": {
      "text/plain": [
       "-0.5773502691896257"
      ]
     },
     "execution_count": 4,
     "metadata": {},
     "output_type": "execute_result"
    }
   ],
   "source": [
    "point = -1                                # step 1\n",
    "learning_rate = 0.01\n",
    "\n",
    "beta1 = 0.9                               # step 2\n",
    "beta2 = 0.999\n",
    "epsilon = 10**-8\n",
    "moment1 = 0\n",
    "moment2 = 0\n",
    "\n",
    "for i in range(1000):                     # step 3\n",
    "    learning_rate_hat = learning_rate * np.sqrt(1 - beta2**(i + 1)) / (1 - beta1**(i + 1))   # step 3.1\n",
    "                                        \n",
    "    moment1 = beta1 * moment1 + (1 - beta1) * fdash(point)  # step 3.2\n",
    "                                  \n",
    "    moment2 = beta2 * moment2 + (1 - beta2) * fdash(point)**2   # step 3.3\n",
    "                                      \n",
    "    update = - learning_rate_hat * moment1 / (moment2**0.5 + epsilon)   # step 3.4\n",
    "                                         \n",
    "    point += update                       # step 3.5\n",
    "    \n",
    "point                                     # Minima\n"
   ]
  },
  {
   "cell_type": "markdown",
   "metadata": {},
   "source": [
    "And, we have successfully implemented Adam in Python.\n",
    "\n",
    "## #2 Adam animation for better understanding\n",
    "\n",
    "Everything thing is the same as what we did earlier for the animation of the previous 6 optimizers. We will create a list to store starting point and updated points in it and will use the iᵗʰ index value for iᵗʰ frame of the animation."
   ]
  },
  {
   "cell_type": "code",
   "execution_count": 5,
   "metadata": {},
   "outputs": [
    {
     "data": {
      "text/plain": [
       "-0.5773502691896257"
      ]
     },
     "execution_count": 5,
     "metadata": {},
     "output_type": "execute_result"
    }
   ],
   "source": [
    "import matplotlib.pyplot as plt \n",
    "import matplotlib.animation as animation \n",
    "from matplotlib.animation import PillowWriter\n",
    "\n",
    "point_adam = [-1]                      # initiating list with\n",
    "                                       # starting point in it\n",
    "point = -1                             # step 1\n",
    "learning_rate = 0.01\n",
    "beta1 = 0.9                            # step 2\n",
    "beta2 = 0.999\n",
    "epsilon = 10**-8\n",
    "moment1 = 0\n",
    "moment2 = 0\n",
    "\n",
    "for i in range(1000):                  # step 3\n",
    "    learning_rate_hat = learning_rate * np.sqrt(1 - beta2**(i + 1)) / (1 - beta1**(i + 1))  # step 3.1\n",
    "    moment1 = beta1 * moment1 + (1 - beta1) * fdash(point)     # step 3.2\n",
    "    moment2 = beta2 * moment2 + (1 - beta2) * fdash(point)**2  # step 3.3\n",
    "    update = - learning_rate_hat * moment1 / (moment2**0.5 + epsilon)  # step 3.4\n",
    "    point += update                    # step 3.5\n",
    "    \n",
    "    point_adam.append(point)           # adding updated point to\n",
    "                                       # the list\n",
    "    \n",
    "point                                  # Minima"
   ]
  },
  {
   "cell_type": "markdown",
   "metadata": {},
   "source": [
    "We will do some settings for our graph for the animation. You can change them if you want something different."
   ]
  },
  {
   "cell_type": "code",
   "execution_count": 6,
   "metadata": {},
   "outputs": [
    {
     "data": {
      "text/plain": [
       "Text(0.5, 1.0, 'Adam, learning_rate = 0.01')"
      ]
     },
     "execution_count": 6,
     "metadata": {},
     "output_type": "execute_result"
    },
    {
     "data": {
      "image/png": "[encoded data removed]",
      "text/plain": [
       "<Figure size 960x540 with 1 Axes>"
      ]
     },
     "metadata": {},
     "output_type": "display_data"
    }
   ],
   "source": [
    "plt.rcParams.update({'font.size': 25})\n",
    "fig = plt.figure(dpi = 50)\n",
    "\n",
    "fig.set_figheight(10.80)\n",
    "fig.set_figwidth(19.20)\n",
    "\n",
    "x_ = np.linspace(-5, 5, 10000)\n",
    "y_ = f(x_)\n",
    "\n",
    "ax = plt.axes()\n",
    "\n",
    "ax.plot(x_, y_)\n",
    "ax.grid(alpha = 0.5)\n",
    "ax.set_xlim(-5, 5)\n",
    "ax.set_ylim(-5, 5)\n",
    "ax.set_xlabel('x')\n",
    "ax.set_ylabel('y', rotation = 0)\n",
    "ax.scatter(-1, f(-1), color = 'red')\n",
    "ax.hlines(f(-0.5773502691896256), -5, 5, linestyles = 'dashed', alpha = 0.5)\n",
    "ax.set_title('Adam, learning_rate = 0.01')"
   ]
  },
  {
   "cell_type": "markdown",
   "metadata": {},
   "source": [
    "Now we will animate the Adam optimizer."
   ]
  },
  {
   "cell_type": "code",
   "execution_count": 7,
   "metadata": {},
   "outputs": [],
   "source": [
    "def animate(i):\n",
    "    ax.clear()\n",
    "    ax.plot(x_, y_)\n",
    "    ax.grid(alpha = 0.5)\n",
    "    ax.set_xlim(-5, 5)\n",
    "    ax.set_ylim(-5, 5)\n",
    "    ax.set_xlabel('x')\n",
    "    ax.set_ylabel('y', rotation = 0)\n",
    "    ax.hlines(f(-0.5773502691896256), -5, 5, linestyles = 'dashed', alpha = 0.5)\n",
    "    ax.set_title('Adam, learning_rate = 0.01')\n",
    "    \n",
    "    ax.scatter(point_adam[i], f(point_adam[i]), color = 'red')"
   ]
  },
  {
   "cell_type": "markdown",
   "metadata": {},
   "source": [
    "The last line in the code snippet above is using the iᵗʰ index value from the list for iᵗʰ frame in the animation."
   ]
  },
  {
   "cell_type": "code",
   "execution_count": 8,
   "metadata": {},
   "outputs": [],
   "source": [
    "anim = animation.FuncAnimation(fig, animate, frames = 200, interval = 10)\n",
    "anim.save('2.7.SGD_Adam.gif')"
   ]
  },
  {
   "cell_type": "markdown",
   "metadata": {},
   "source": [
    "We are creating an animation that only has 200 frames and the gif is at 50 fps or frame interval is 20 ms.\n",
    "\n",
    "It is to be noted that in less than 200 iterations we have reached the minima.\n",
    "\n",
    "## #3 Adam in multi-variable function (2 variables right now)\n",
    "\n",
    "Everything is the same, we only have to initialize point (1, 0) and moment1 = 0 and moment2 = 0 but with shape (2, 1) and replace fdash(point) with gradient(point).\n",
    "\n",
    "But first, let us define the function, its partial derivatives and, gradient array"
   ]
  },
  {
   "cell_type": "code",
   "execution_count": 9,
   "metadata": {},
   "outputs": [
    {
     "data": {
      "text/latex": [
       "\\begin{gather*}\n",
       "    f = 2x^{2} + 2xy + 2y^{2} - 6x \\\\\n",
       "        \\text{We know that Minima for this function is at (2, -1)} \\\\\n",
       "        \\text{and we will start from (1, 0)}\\\\\n",
       "        \\text{The partial derivatives are}\\\\\n",
       "        \\frac{\\partial f}{\\partial x} = 4x + 2y - 6 \\\\\n",
       "        \\frac{\\partial f}{\\partial y} = 2x + 4y \\\\\n",
       " \\end{gather*}\n"
      ],
      "text/plain": [
       "<IPython.core.display.Latex object>"
      ]
     },
     "metadata": {},
     "output_type": "display_data"
    }
   ],
   "source": [
    "%%latex\n",
    "\\begin{gather*}\n",
    "    f = 2x^{2} + 2xy + 2y^{2} - 6x \\\\\n",
    "        \\text{We know that Minima for this function is at (2, -1)} \\\\\n",
    "        \\text{and we will start from (1, 0)}\\\\\n",
    "        \\text{The partial derivatives are}\\\\\n",
    "        \\frac{\\partial f}{\\partial x} = 4x + 2y - 6 \\\\\n",
    "        \\frac{\\partial f}{\\partial y} = 2x + 4y \\\\\n",
    " \\end{gather*}"
   ]
  },
  {
   "cell_type": "code",
   "execution_count": 10,
   "metadata": {},
   "outputs": [],
   "source": [
    "def f(x, y):                                    # function\n",
    "    return 2*(x**2) + 2*x*y + 2*(y**2) - 6*x    # definition\n",
    "\n",
    "def fdash_x(x, y):                              # partial derivative\n",
    "    return 4*x + 2*y - 6                        # w.r.t x\n",
    "\n",
    "def fdash_y(x, y):                              # partial derivative\n",
    "    return 2*x + 4*y                            # w.r.t y\n",
    "\n",
    "def gradient(point):                            # gradients\n",
    "    return np.array([[     fdash_x(point[0][0], point[1][0])     ],\n",
    "                     [     fdash_y(point[0][0], point[1][0])     ]], dtype = np.float64)    "
   ]
  },
  {
   "cell_type": "markdown",
   "metadata": {},
   "source": [
    "Now the steps for Adam in 2 variables are"
   ]
  },
  {
   "cell_type": "code",
   "execution_count": 11,
   "metadata": {},
   "outputs": [
    {
     "data": {
      "text/plain": [
       "array([[ 2.],\n",
       "       [-1.]])"
      ]
     },
     "execution_count": 11,
     "metadata": {},
     "output_type": "execute_result"
    }
   ],
   "source": [
    "point = np.array([[   1   ],                     # step 1\n",
    "                  [   0   ]], dtype = np.float64)\n",
    "learning_rate = 1\n",
    "\n",
    "learning_rate = 0.01\n",
    "beta1 = 0.9                                     # step 2\n",
    "beta2 = 0.999\n",
    "epsilon = 10**-8\n",
    "moment1 = np.array([[   0   ],\n",
    "                    [   0   ]], dtype = np.float64)\n",
    "moment2 = np.array([[   0   ],\n",
    "                    [   0   ]], dtype = np.float64)\n",
    "\n",
    "for i in range(1000):                           # step 3\n",
    "    learning_rate_hat = learning_rate * np.sqrt(1 - beta2**(i + 1)) / (1 - beta1**(i + 1))  # step 3.1\n",
    "    moment1 = beta1 * moment1 + (1 - beta1) * gradient(point)  # step 3.2\n",
    "    moment2 = beta2 * moment2 + (1 - beta2) * gradient(point)**2  # step 3.3\n",
    "    update = - learning_rate_hat * moment1 / (moment2**0.5 + epsilon)  # step 3.4\n",
    "    point += update                             # step 3.5\n",
    "    \n",
    "point                                        # Minima"
   ]
  },
  {
   "cell_type": "markdown",
   "metadata": {},
   "source": [
    "I hope now you understand how Adam works."
   ]
  }
 ],
 "metadata": {
  "kernelspec": {
   "display_name": "myenv",
   "language": "python",
   "name": "python3"
  },
  "language_info": {
   "codemirror_mode": {
    "name": "ipython",
    "version": 3
   },
   "file_extension": ".py",
   "mimetype": "text/x-python",
   "name": "python",
   "nbconvert_exporter": "python",
   "pygments_lexer": "ipython3",
   "version": "3.10.12"
  },
  "orig_nbformat": 4
 },
 "nbformat": 4,
 "nbformat_minor": 2
}
