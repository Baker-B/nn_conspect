{
 "cells": [
  {
   "cell_type": "markdown",
   "metadata": {},
   "source": [
    "# neuralthreads\n",
    "[medium](https://neuralthreads.medium.com/i-was-not-satisfied-by-any-deep-learning-tutorials-online-37c5e9f4bea1)\n",
    "\n",
    "## Chapter 4 — Losses and their derivatives\n",
    "\n",
    "Mean Absolute Error — Another widely used Regression loss\n",
    "\n",
    "\n",
    "### 4.2 What is Mean Absolute error and how to compute its gradients?\n",
    "\n",
    "In this post, we will talk about Mean Absolute Error and the gradients. This is also used in regression losses.\n",
    "\n",
    "Suppose we have true values,"
   ]
  },
  {
   "cell_type": "code",
   "execution_count": 11,
   "metadata": {},
   "outputs": [
    {
     "data": {
      "text/latex": [
       "\\begin{gather*}\n",
       "\\newcommand{\\arraystretch}{1.5}\n",
       "    y\\_true = y = \n",
       "    \\begin{bmatrix*}\n",
       "    y_1 \\\\\n",
       "    y_2 \\\\\n",
       "    y_3 \n",
       "    \\end{bmatrix*}\n",
       "\\end{gather*}\n"
      ],
      "text/plain": [
       "<IPython.core.display.Latex object>"
      ]
     },
     "metadata": {},
     "output_type": "display_data"
    }
   ],
   "source": [
    "%%latex\n",
    "\\begin{gather*}\n",
    "\\newcommand{\\arraystretch}{1.5}\n",
    "    y\\_true = y = \n",
    "    \\begin{bmatrix*}\n",
    "    y_1 \\\\\n",
    "    y_2 \\\\\n",
    "    y_3 \n",
    "    \\end{bmatrix*}\n",
    "\\end{gather*}"
   ]
  },
  {
   "cell_type": "markdown",
   "metadata": {},
   "source": [
    "and predicted values,"
   ]
  },
  {
   "cell_type": "code",
   "execution_count": 2,
   "metadata": {},
   "outputs": [
    {
     "data": {
      "text/latex": [
       "\\begin{gather*}\n",
       "\\newcommand{\\arraystretch}{1.5}\n",
       "    y\\_pred = \\hat{y} = \n",
       "    \\begin{bmatrix*}\n",
       "    \\hat{y_1} \\\\\n",
       "    \\hat{y_2} \\\\\n",
       "    \\hat{y_3} \n",
       "    \\end{bmatrix*}\n",
       "\\end{gather*}\n"
      ],
      "text/plain": [
       "<IPython.core.display.Latex object>"
      ]
     },
     "metadata": {},
     "output_type": "display_data"
    }
   ],
   "source": [
    "%%latex\n",
    "\\begin{gather*}\n",
    "\\newcommand{\\arraystretch}{1.5}\n",
    "    y\\_pred = \\hat{y} = \n",
    "    \\begin{bmatrix*}\n",
    "    \\hat{y_1} \\\\\n",
    "    \\hat{y_2} \\\\\n",
    "    \\hat{y_3} \n",
    "    \\end{bmatrix*}\n",
    "\\end{gather*}"
   ]
  },
  {
   "cell_type": "markdown",
   "metadata": {},
   "source": [
    "Then Mean Absolute Error is calculated as follow:"
   ]
  },
  {
   "cell_type": "code",
   "execution_count": 4,
   "metadata": {},
   "outputs": [
    {
     "data": {
      "text/latex": [
       "\\begin{gather*}\n",
       "\\newcommand{\\arraystretch}{1.5}\n",
       "   MAE = \\dfrac{1}{N}\\sum_{i=1}^{i=N}|y\\_true_i - y\\_pred_i| \\Rightarrow \\\\\n",
       "    \\\\\n",
       "\\Rightarrow\n",
       "   MAE = \\dfrac{1}{N}\\sum_{i=1}^{i=N}|y_i - \\hat{y_i}| \\Rightarrow \\\\\n",
       "    \\\\\n",
       "\\Rightarrow \n",
       "MAE = \\dfrac{1}{3}[|y_1 - \\hat{y_1}| + |y_2 - \\hat{y_2}| + |y_3 - \\hat{y_3}|] \\\\\n",
       "\n",
       "\\end{gather*}\n"
      ],
      "text/plain": [
       "<IPython.core.display.Latex object>"
      ]
     },
     "metadata": {},
     "output_type": "display_data"
    }
   ],
   "source": [
    "%%latex\n",
    "\\begin{gather*}\n",
    "\\newcommand{\\arraystretch}{1.5}\n",
    "   MAE = \\dfrac{1}{N}\\sum_{i=1}^{i=N}|y\\_true_i - y\\_pred_i| \\Rightarrow \\\\\n",
    "    \\\\\n",
    "\\Rightarrow\n",
    "   MAE = \\dfrac{1}{N}\\sum_{i=1}^{i=N}|y_i - \\hat{y_i}| \\Rightarrow \\\\\n",
    "    \\\\\n",
    "\\Rightarrow \n",
    "MAE = \\dfrac{1}{3}[|y_1 - \\hat{y_1}| + |y_2 - \\hat{y_2}| + |y_3 - \\hat{y_3}|] \\\\\n",
    "\n",
    "\\end{gather*}"
   ]
  },
  {
   "cell_type": "markdown",
   "metadata": {},
   "source": [
    "We can easily calculate Mean Absolute Error in Python like this."
   ]
  },
  {
   "cell_type": "code",
   "execution_count": 5,
   "metadata": {},
   "outputs": [],
   "source": [
    "import numpy as np                             # importing NumPy\n",
    "np.random.seed(42)\n",
    "\n",
    "def mae(y_true, y_pred):                     # MSE\n",
    "    return np.mean(abs(y_true - y_pred))"
   ]
  },
  {
   "cell_type": "markdown",
   "metadata": {},
   "source": [
    "Now, we know that"
   ]
  },
  {
   "cell_type": "code",
   "execution_count": 7,
   "metadata": {},
   "outputs": [
    {
     "data": {
      "text/latex": [
       "\\begin{gather*}\n",
       "    MAE = f(\\hat{y_1},\\hat{y_2},\\hat{y_3})\n",
       "\\end{gather*}\n"
      ],
      "text/plain": [
       "<IPython.core.display.Latex object>"
      ]
     },
     "metadata": {},
     "output_type": "display_data"
    }
   ],
   "source": [
    "%%latex\n",
    "\\begin{gather*}\n",
    "    MAE = f(\\hat{y_1},\\hat{y_2},\\hat{y_3})\n",
    "\\end{gather*}"
   ]
  },
  {
   "cell_type": "markdown",
   "metadata": {},
   "source": [
    "So, like MSE activation function, we have a **Jacobian** for MSE."
   ]
  },
  {
   "cell_type": "code",
   "execution_count": 8,
   "metadata": {},
   "outputs": [
    {
     "data": {
      "text/latex": [
       "\\begin{gather*}\n",
       "    \\newcommand{\\arraystretch}{2.5}\n",
       "    J = \\dfrac{\\partial{(MAE)}}{(\\hat{y_1},\\hat{y_2},\\hat{y_3})} =     \n",
       "    \\begin{bmatrix*}\n",
       "    \\dfrac{\\partial{(MAE)}}{\\partial(\\hat{y_1})} \\\\\n",
       "    \\dfrac{\\partial{(MAE)}}{\\partial(\\hat{y_2})} \\\\\n",
       "    \\dfrac{\\partial{(MAE)}}{\\partial(\\hat{y_3})} \n",
       "    \\end{bmatrix*}\n",
       "    \n",
       "\\end{gather*}\n"
      ],
      "text/plain": [
       "<IPython.core.display.Latex object>"
      ]
     },
     "metadata": {},
     "output_type": "display_data"
    }
   ],
   "source": [
    "%%latex\n",
    "\\begin{gather*}\n",
    "    \\newcommand{\\arraystretch}{2.5}\n",
    "    J = \\dfrac{\\partial{(MAE)}}{(\\hat{y_1},\\hat{y_2},\\hat{y_3})} =     \n",
    "    \\begin{bmatrix*}\n",
    "    \\dfrac{\\partial{(MAE)}}{\\partial(\\hat{y_1})} \\\\\n",
    "    \\dfrac{\\partial{(MAE)}}{\\partial(\\hat{y_2})} \\\\\n",
    "    \\dfrac{\\partial{(MAE)}}{\\partial(\\hat{y_3})} \n",
    "    \\end{bmatrix*}\n",
    "    \n",
    "\\end{gather*}\n"
   ]
  },
  {
   "cell_type": "markdown",
   "metadata": {},
   "source": [
    "We can easily find each term in this Jacobian."
   ]
  },
  {
   "cell_type": "code",
   "execution_count": 17,
   "metadata": {},
   "outputs": [
    {
     "data": {
      "text/latex": [
       "\\begin{gather*}\n",
       "    \\newcommand{\\arraystretch}{3}\n",
       "    \\Rightarrow J =  \n",
       "    \\begin{bmatrix*}\n",
       "      \\frac{-(y_1 - \\hat{y_1})}{3|y_1 - \\hat{y_1}|} \\\\\n",
       "      \\frac{-(y_2 - \\hat{y_2})}{3|y_2 - \\hat{y_2}|} \\\\ \n",
       "      \\frac{-(y_3 - \\hat{y_3})}{3|y_3 - \\hat{y_3}|} \\\\\n",
       "    \\end{bmatrix*} \\Rightarrow  \\\\\n",
       "    \\newcommand{\\arraystretch}{1.5}\n",
       "    \\Rightarrow J =  - \\frac{1}{3} (\n",
       "    \\begin{bmatrix*}\n",
       "      y_{1} - \\hat{y_{1}} \\\\\n",
       "      y_{2} - \\hat{y_{2}} \\\\ \n",
       "      y_{3} - \\hat{y_{3}} \\\\\n",
       "    \\end{bmatrix*} / \n",
       "    \\begin{bmatrix*}\n",
       "      |y_1 - \\hat{y_1}| \\\\\n",
       "      |y_2 - \\hat{y_2}| \\\\ \n",
       "      |y_3 - \\hat{y_3}| \\\\\n",
       "    \\end{bmatrix*}\n",
       "    ) \\Rightarrow  \\\\\n",
       "\n",
       "    \\\\\n",
       "  \\Rightarrow J = - \\frac{1}{3} \\frac{y\\_true - y\\_pred}{|y\\_true - y\\_pred|}\n",
       "\\end{gather*}\n"
      ],
      "text/plain": [
       "<IPython.core.display.Latex object>"
      ]
     },
     "metadata": {},
     "output_type": "display_data"
    }
   ],
   "source": [
    "%%latex\n",
    "\\begin{gather*}\n",
    "    \\newcommand{\\arraystretch}{3}\n",
    "    \\Rightarrow J =  \n",
    "    \\begin{bmatrix*}\n",
    "      \\frac{-(y_1 - \\hat{y_1})}{3|y_1 - \\hat{y_1}|} \\\\\n",
    "      \\frac{-(y_2 - \\hat{y_2})}{3|y_2 - \\hat{y_2}|} \\\\ \n",
    "      \\frac{-(y_3 - \\hat{y_3})}{3|y_3 - \\hat{y_3}|} \\\\\n",
    "    \\end{bmatrix*} \\Rightarrow  \\\\\n",
    "    \\newcommand{\\arraystretch}{1.5}\n",
    "    \\Rightarrow J =  - \\frac{1}{3} (\n",
    "    \\begin{bmatrix*}\n",
    "      y_{1} - \\hat{y_{1}} \\\\\n",
    "      y_{2} - \\hat{y_{2}} \\\\ \n",
    "      y_{3} - \\hat{y_{3}} \\\\\n",
    "    \\end{bmatrix*} / \n",
    "    \\begin{bmatrix*}\n",
    "      |y_1 - \\hat{y_1}| \\\\\n",
    "      |y_2 - \\hat{y_2}| \\\\ \n",
    "      |y_3 - \\hat{y_3}| \\\\\n",
    "    \\end{bmatrix*}\n",
    "    ) \\Rightarrow  \\\\\n",
    "\n",
    "    \\\\\n",
    "  \\Rightarrow J = - \\frac{1}{3} \\frac{y\\_true - y\\_pred}{|y\\_true - y\\_pred|}\n",
    "\\end{gather*}"
   ]
  },
  {
   "cell_type": "markdown",
   "metadata": {},
   "source": [
    "> Note — Here, 3 represents ‘N’, i.e., the entries in y_true and y_pred\n",
    "\n",
    "We can reduce it to define the MAE Jacobian in Python like this."
   ]
  },
  {
   "cell_type": "code",
   "execution_count": 19,
   "metadata": {},
   "outputs": [],
   "source": [
    "def mae_grad(y_true, y_pred):\n",
    "    N = y_true.shape[0]\n",
    "    return -((y_true - y_pred) / (abs(y_true - y_pred)+ 10**-100))/N"
   ]
  },
  {
   "cell_type": "markdown",
   "metadata": {},
   "source": [
    "> Note — 10**-100 is for stability.\n",
    "\n",
    "Let us have a look at an example."
   ]
  },
  {
   "cell_type": "code",
   "execution_count": 20,
   "metadata": {},
   "outputs": [
    {
     "name": "stdout",
     "output_type": "stream",
     "text": [
      "[[1.5]\n",
      " [0.2]\n",
      " [3.9]\n",
      " [6.2]\n",
      " [5.2]]\n",
      "[[1.2]\n",
      " [0.5]\n",
      " [3.2]\n",
      " [4.2]\n",
      " [3.2]]\n",
      "(5, 1)\n"
     ]
    }
   ],
   "source": [
    "y_true = np.array([[1.5], [0.2], [3.9], [6.2], [5.2]])\n",
    "print(y_true)\n",
    "y_pred = np.array([[1.2], [0.5], [3.2], [4.2], [3.2]])\n",
    "print(y_pred)\n",
    "print(y_pred.shape)"
   ]
  },
  {
   "cell_type": "code",
   "execution_count": 21,
   "metadata": {},
   "outputs": [
    {
     "data": {
      "text/plain": [
       "1.06"
      ]
     },
     "execution_count": 21,
     "metadata": {},
     "output_type": "execute_result"
    }
   ],
   "source": [
    "mae(y_true, y_pred)"
   ]
  },
  {
   "cell_type": "code",
   "execution_count": 22,
   "metadata": {},
   "outputs": [
    {
     "data": {
      "text/plain": [
       "array([[-0.2],\n",
       "       [ 0.2],\n",
       "       [-0.2],\n",
       "       [-0.2],\n",
       "       [-0.2]])"
      ]
     },
     "execution_count": 22,
     "metadata": {},
     "output_type": "execute_result"
    }
   ],
   "source": [
    "mae_grad(y_true, y_pred)"
   ]
  },
  {
   "cell_type": "markdown",
   "metadata": {},
   "source": [
    "I hope you now understand how to implement Mean Absolute Error."
   ]
  }
 ],
 "metadata": {
  "kernelspec": {
   "display_name": "myenv",
   "language": "python",
   "name": "python3"
  },
  "language_info": {
   "codemirror_mode": {
    "name": "ipython",
    "version": 3
   },
   "file_extension": ".py",
   "mimetype": "text/x-python",
   "name": "python",
   "nbconvert_exporter": "python",
   "pygments_lexer": "ipython3",
   "version": "3.10.12"
  },
  "orig_nbformat": 4
 },
 "nbformat": 4,
 "nbformat_minor": 2
}
