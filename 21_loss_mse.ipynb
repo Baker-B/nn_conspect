{
 "cells": [
  {
   "cell_type": "markdown",
   "metadata": {},
   "source": [
    "# neuralthreads\n",
    "[medium](https://neuralthreads.medium.com/i-was-not-satisfied-by-any-deep-learning-tutorials-online-37c5e9f4bea1)\n",
    "\n",
    "## Chapter 4 — Losses and their derivatives\n",
    "\n",
    "Mean Square Error — The most used Regression loss\n",
    "\n",
    "Let us start the fourth chapter — Losses and their gradients or derivatives with Mean Square error. This error is generally used if regression problems\n",
    "\n",
    "### 4.1 What is Mean Square error and how to compute its gradients?\n",
    "\n",
    "Suppose we have true values,"
   ]
  },
  {
   "cell_type": "code",
   "execution_count": 11,
   "metadata": {},
   "outputs": [
    {
     "data": {
      "text/latex": [
       "\\begin{gather*}\n",
       "\\newcommand{\\arraystretch}{1.5}\n",
       "    y\\_true = y = \n",
       "    \\begin{bmatrix*}\n",
       "    y_1 \\\\\n",
       "    y_2 \\\\\n",
       "    y_3 \n",
       "    \\end{bmatrix*}\n",
       "\\end{gather*}\n"
      ],
      "text/plain": [
       "<IPython.core.display.Latex object>"
      ]
     },
     "metadata": {},
     "output_type": "display_data"
    }
   ],
   "source": [
    "%%latex\n",
    "\\begin{gather*}\n",
    "\\newcommand{\\arraystretch}{1.5}\n",
    "    y\\_true = y = \n",
    "    \\begin{bmatrix*}\n",
    "    y_1 \\\\\n",
    "    y_2 \\\\\n",
    "    y_3 \n",
    "    \\end{bmatrix*}\n",
    "\\end{gather*}"
   ]
  },
  {
   "cell_type": "markdown",
   "metadata": {},
   "source": [
    "and predicted values,"
   ]
  },
  {
   "cell_type": "code",
   "execution_count": 2,
   "metadata": {},
   "outputs": [
    {
     "data": {
      "text/latex": [
       "\\begin{gather*}\n",
       "\\newcommand{\\arraystretch}{1.5}\n",
       "    y\\_pred = \\hat{y} = \n",
       "    \\begin{bmatrix*}\n",
       "    \\hat{y_1} \\\\\n",
       "    \\hat{y_2} \\\\\n",
       "    \\hat{y_3} \n",
       "    \\end{bmatrix*}\n",
       "\\end{gather*}\n"
      ],
      "text/plain": [
       "<IPython.core.display.Latex object>"
      ]
     },
     "metadata": {},
     "output_type": "display_data"
    }
   ],
   "source": [
    "%%latex\n",
    "\\begin{gather*}\n",
    "\\newcommand{\\arraystretch}{1.5}\n",
    "    y\\_pred = \\hat{y} = \n",
    "    \\begin{bmatrix*}\n",
    "    \\hat{y_1} \\\\\n",
    "    \\hat{y_2} \\\\\n",
    "    \\hat{y_3} \n",
    "    \\end{bmatrix*}\n",
    "\\end{gather*}"
   ]
  },
  {
   "cell_type": "markdown",
   "metadata": {},
   "source": [
    "Then Mean Square Error is calculated as follow:"
   ]
  },
  {
   "cell_type": "code",
   "execution_count": 17,
   "metadata": {},
   "outputs": [
    {
     "data": {
      "text/latex": [
       "\\begin{gather*}\n",
       "\\newcommand{\\arraystretch}{1.5}\n",
       "   MSE = \\dfrac{1}{N}\\sum_{i=1}^{i=N}(y\\_true_i - y\\_pred_i)^2 \\Rightarrow \\\\\n",
       "    \\\\\n",
       "\\Rightarrow\n",
       "   MSE = \\dfrac{1}{N}\\sum_{i=1}^{i=N}(y_i - \\hat{y_i})^2 \\Rightarrow \\\\\n",
       "    \\\\\n",
       "\\Rightarrow MSE = \\dfrac{1}{3}[(y_1 - \\hat{y_1})^2 + (y_2 - \\hat{y_2})^2 + (y_3 - \\hat{y_3})^2] \\\\\n",
       "\n",
       "\\end{gather*}\n"
      ],
      "text/plain": [
       "<IPython.core.display.Latex object>"
      ]
     },
     "metadata": {},
     "output_type": "display_data"
    }
   ],
   "source": [
    "%%latex\n",
    "\\begin{gather*}\n",
    "\\newcommand{\\arraystretch}{1.5}\n",
    "   MSE = \\dfrac{1}{N}\\sum_{i=1}^{i=N}(y\\_true_i - y\\_pred_i)^2 \\Rightarrow \\\\\n",
    "    \\\\\n",
    "\\Rightarrow\n",
    "   MSE = \\dfrac{1}{N}\\sum_{i=1}^{i=N}(y_i - \\hat{y_i})^2 \\Rightarrow \\\\\n",
    "    \\\\\n",
    "\\Rightarrow MSE = \\dfrac{1}{3}[(y_1 - \\hat{y_1})^2 + (y_2 - \\hat{y_2})^2 + (y_3 - \\hat{y_3})^2] \\\\\n",
    "\n",
    "\\end{gather*}"
   ]
  },
  {
   "cell_type": "markdown",
   "metadata": {},
   "source": [
    "We can easily calculate Mean Square Error in Python like this."
   ]
  },
  {
   "cell_type": "code",
   "execution_count": 29,
   "metadata": {},
   "outputs": [],
   "source": [
    "import numpy as np                             # importing NumPy\n",
    "np.random.seed(42)\n",
    "\n",
    "def mse(y_true, y_pred):                     # MSE\n",
    "    return np.mean((y_true - y_pred)**2)"
   ]
  },
  {
   "cell_type": "markdown",
   "metadata": {},
   "source": [
    "Now, we know that"
   ]
  },
  {
   "cell_type": "code",
   "execution_count": 18,
   "metadata": {},
   "outputs": [
    {
     "data": {
      "text/latex": [
       "\\begin{gather*}\n",
       "    MSE = f(\\hat{y_1},\\hat{y_2},\\hat{y_3})\n",
       "\\end{gather*}\n"
      ],
      "text/plain": [
       "<IPython.core.display.Latex object>"
      ]
     },
     "metadata": {},
     "output_type": "display_data"
    }
   ],
   "source": [
    "%%latex\n",
    "\\begin{gather*}\n",
    "    MSE = f(\\hat{y_1},\\hat{y_2},\\hat{y_3})\n",
    "\\end{gather*}"
   ]
  },
  {
   "cell_type": "markdown",
   "metadata": {},
   "source": [
    "So, like the [**Softmax**](./20_activation_softmax.ipynb) activation function, we have a **Jacobian** for MSE."
   ]
  },
  {
   "cell_type": "code",
   "execution_count": 23,
   "metadata": {},
   "outputs": [
    {
     "data": {
      "text/latex": [
       "\\begin{gather*}\n",
       "    \\newcommand{\\arraystretch}{2.5}\n",
       "    J = \\dfrac{\\partial{(MSE)}}{(\\hat{y_1},\\hat{y_2},\\hat{y_3})} =     \n",
       "    \\begin{bmatrix*}\n",
       "    \\dfrac{\\partial{(MSE)}}{\\partial(\\hat{y_1})} \\\\\n",
       "    \\dfrac{\\partial{(MSE)}}{\\partial(\\hat{y_2})} \\\\\n",
       "    \\dfrac{\\partial{(MSE)}}{\\partial(\\hat{y_3})} \n",
       "    \\end{bmatrix*}\n",
       "    \n",
       "\\end{gather*}\n"
      ],
      "text/plain": [
       "<IPython.core.display.Latex object>"
      ]
     },
     "metadata": {},
     "output_type": "display_data"
    }
   ],
   "source": [
    "%%latex\n",
    "\\begin{gather*}\n",
    "    \\newcommand{\\arraystretch}{2.5}\n",
    "    J = \\dfrac{\\partial{(MSE)}}{(\\hat{y_1},\\hat{y_2},\\hat{y_3})} =     \n",
    "    \\begin{bmatrix*}\n",
    "    \\dfrac{\\partial{(MSE)}}{\\partial(\\hat{y_1})} \\\\\n",
    "    \\dfrac{\\partial{(MSE)}}{\\partial(\\hat{y_2})} \\\\\n",
    "    \\dfrac{\\partial{(MSE)}}{\\partial(\\hat{y_3})} \n",
    "    \\end{bmatrix*}\n",
    "    \n",
    "\\end{gather*}\n"
   ]
  },
  {
   "cell_type": "markdown",
   "metadata": {},
   "source": [
    "We can easily find each term in this Jacobian."
   ]
  },
  {
   "cell_type": "code",
   "execution_count": 26,
   "metadata": {},
   "outputs": [
    {
     "data": {
      "text/latex": [
       "\\begin{gather*}\n",
       "    \\newcommand{\\arraystretch}{3}\n",
       "    \\Rightarrow J =  \n",
       "    \\begin{bmatrix*}\n",
       "      \\frac{-2(y_1 - \\hat{y_1})}{3} \\\\\n",
       "      \\frac{-2(y_2 - \\hat{y_2})}{3} \\\\ \n",
       "      \\frac{-2(y_3 - \\hat{y_3})}{3} \\\\\n",
       "    \\end{bmatrix*} \\Rightarrow  \\\\\n",
       "    \\newcommand{\\arraystretch}{1.5}\n",
       "    \\Rightarrow J =  - \\frac{2}{3} (\n",
       "    \\begin{bmatrix*}\n",
       "      y_{1} - \\hat{y_{1}} \\\\\n",
       "      y_{2} - \\hat{y_{2}} \\\\ \n",
       "      y_{3} - \\hat{y_{3}} \\\\\n",
       "    \\end{bmatrix*} ) \\Rightarrow  \\\\\n",
       "     \\newcommand{\\arraystretch}{1.5}\n",
       "    \\Rightarrow J =  - \\frac{2}{3} (\n",
       "    \\begin{bmatrix*}\n",
       "      y_{1} \\\\\n",
       "      y_{2} \\\\ \n",
       "      y_{3} \\\\\n",
       "    \\end{bmatrix*} - \n",
       "    \\begin{bmatrix*}\n",
       "      \\hat{y_{2}} \\\\\n",
       "      \\hat{y_{2}} \\\\ \n",
       "      \\hat{y_{3}} \\\\\n",
       "    \\end{bmatrix*}) \\Rightarrow  \\\\\n",
       "    \\\\\n",
       "  \\Rightarrow J = - \\frac{2}{3} (y\\_true - y\\_pred)\n",
       "\\end{gather*}\n"
      ],
      "text/plain": [
       "<IPython.core.display.Latex object>"
      ]
     },
     "metadata": {},
     "output_type": "display_data"
    }
   ],
   "source": [
    "%%latex\n",
    "\\begin{gather*}\n",
    "    \\newcommand{\\arraystretch}{3}\n",
    "    \\Rightarrow J =  \n",
    "    \\begin{bmatrix*}\n",
    "      \\frac{-2(y_1 - \\hat{y_1})}{3} \\\\\n",
    "      \\frac{-2(y_2 - \\hat{y_2})}{3} \\\\ \n",
    "      \\frac{-2(y_3 - \\hat{y_3})}{3} \\\\\n",
    "    \\end{bmatrix*} \\Rightarrow  \\\\\n",
    "    \\newcommand{\\arraystretch}{1.5}\n",
    "    \\Rightarrow J =  - \\frac{2}{3} (\n",
    "    \\begin{bmatrix*}\n",
    "      y_{1} - \\hat{y_{1}} \\\\\n",
    "      y_{2} - \\hat{y_{2}} \\\\ \n",
    "      y_{3} - \\hat{y_{3}} \\\\\n",
    "    \\end{bmatrix*} ) \\Rightarrow  \\\\\n",
    "     \\newcommand{\\arraystretch}{1.5}\n",
    "    \\Rightarrow J =  - \\frac{2}{3} (\n",
    "    \\begin{bmatrix*}\n",
    "      y_{1} \\\\\n",
    "      y_{2} \\\\ \n",
    "      y_{3} \\\\\n",
    "    \\end{bmatrix*} - \n",
    "    \\begin{bmatrix*}\n",
    "      \\hat{y_{2}} \\\\\n",
    "      \\hat{y_{2}} \\\\ \n",
    "      \\hat{y_{3}} \\\\\n",
    "    \\end{bmatrix*}) \\Rightarrow  \\\\\n",
    "    \\\\\n",
    "  \\Rightarrow J = - \\frac{2}{3} (y\\_true - y\\_pred)\n",
    "\\end{gather*}"
   ]
  },
  {
   "cell_type": "markdown",
   "metadata": {},
   "source": [
    "> Note — Here, 3 represents ‘N’, i.e., the entries in y_true and y_pred\n",
    "\n",
    "We can reduce it to define the MSE Jacobian in Python like this."
   ]
  },
  {
   "cell_type": "code",
   "execution_count": 37,
   "metadata": {},
   "outputs": [],
   "source": [
    "def mse_grad(y_true, y_pred):\n",
    "    N = y_true.shape[0]\n",
    "    return -2*(y_true - y_pred)/N"
   ]
  },
  {
   "cell_type": "markdown",
   "metadata": {},
   "source": [
    "Let us have a look at an example."
   ]
  },
  {
   "cell_type": "code",
   "execution_count": 38,
   "metadata": {},
   "outputs": [
    {
     "name": "stdout",
     "output_type": "stream",
     "text": [
      "[[1.5]\n",
      " [0.2]\n",
      " [3.9]\n",
      " [6.2]\n",
      " [5.2]]\n",
      "[[1.2]\n",
      " [0.5]\n",
      " [3.2]\n",
      " [4.2]\n",
      " [3.2]]\n",
      "(5, 1)\n"
     ]
    }
   ],
   "source": [
    "y_true = np.array([[1.5], [0.2], [3.9], [6.2], [5.2]])\n",
    "print(y_true)\n",
    "y_pred = np.array([[1.2], [0.5], [3.2], [4.2], [3.2]])\n",
    "print(y_pred)\n",
    "print(y_pred.shape)"
   ]
  },
  {
   "cell_type": "code",
   "execution_count": 39,
   "metadata": {},
   "outputs": [
    {
     "data": {
      "text/plain": [
       "1.734"
      ]
     },
     "execution_count": 39,
     "metadata": {},
     "output_type": "execute_result"
    }
   ],
   "source": [
    "mse(y_true, y_pred)"
   ]
  },
  {
   "cell_type": "code",
   "execution_count": 40,
   "metadata": {},
   "outputs": [
    {
     "data": {
      "text/plain": [
       "array([[-0.12],\n",
       "       [ 0.12],\n",
       "       [-0.28],\n",
       "       [-0.8 ],\n",
       "       [-0.8 ]])"
      ]
     },
     "execution_count": 40,
     "metadata": {},
     "output_type": "execute_result"
    }
   ],
   "source": [
    "mse_grad(y_true, y_pred)"
   ]
  }
 ],
 "metadata": {
  "kernelspec": {
   "display_name": "myenv",
   "language": "python",
   "name": "python3"
  },
  "language_info": {
   "codemirror_mode": {
    "name": "ipython",
    "version": 3
   },
   "file_extension": ".py",
   "mimetype": "text/x-python",
   "name": "python",
   "nbconvert_exporter": "python",
   "pygments_lexer": "ipython3",
   "version": "3.10.12"
  },
  "orig_nbformat": 4
 },
 "nbformat": 4,
 "nbformat_minor": 2
}
